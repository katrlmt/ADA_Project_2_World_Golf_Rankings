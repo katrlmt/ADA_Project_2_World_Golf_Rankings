{
 "cells": [
  {
   "cell_type": "code",
   "execution_count": 1,
   "metadata": {},
   "outputs": [],
   "source": [
    "#Packages\n",
    "import requests\n",
    "from bs4 import BeautifulSoup\n",
    "import pandas as pd"
   ]
  },
  {
   "cell_type": "code",
   "execution_count": 2,
   "metadata": {},
   "outputs": [],
   "source": [
    "#See the website text\n",
    "url = 'http://www.owgr.com/en/Ranking.aspx?pageNo=1&pageSize=All&country=All'\n",
    "    \n",
    "#BeautifulSoup\n",
    "text_results_html = requests.get(url)\n",
    "text_results_soup = BeautifulSoup(text_results_html.text, 'lxml')"
   ]
  },
  {
   "cell_type": "code",
   "execution_count": 3,
   "metadata": {},
   "outputs": [],
   "source": [
    "#See website text- this helps reference the table elements\n",
    "#text_results_soup"
   ]
  },
  {
   "cell_type": "code",
   "execution_count": 4,
   "metadata": {},
   "outputs": [],
   "source": [
    "#Website\n",
    "golf_url = 'http://www.owgr.com/en/Ranking.aspx?pageNo=1&pageSize=300&country=All'"
   ]
  },
  {
   "cell_type": "code",
   "execution_count": 5,
   "metadata": {},
   "outputs": [],
   "source": [
    "#Request to website\n",
    "golf2 = requests.get(golf_url)\n",
    "\n",
    "#BeautifulSoup object\n",
    "soup = BeautifulSoup(golf2.content, 'lxml')"
   ]
  },
  {
   "cell_type": "code",
   "execution_count": 7,
   "metadata": {},
   "outputs": [],
   "source": [
    "#Top Golfer Table\n",
    "top_golfer_table = soup.find('table')\n",
    "\n",
    "#List and Counter for Ranking\n",
    "rankings = []\n",
    "curr_rank = 1\n",
    "\n",
    "#Iterate\n",
    "for rows in top_golfer_table.find_all('tr')[1:]:\n",
    "    # Player Dict for each Row\n",
    "    player = {}\n",
    "    \n",
    "    #Creating rows for table\n",
    "    player['Name'] = rows.find('td',{'class':'name'}).text\n",
    "    player['Country'] = rows.find('td',{'class':'ctry'}).find('img')['title']\n",
    "    player['Rank'] = curr_rank\n",
    "    curr_rank += 1\n",
    "    \n",
    "    #Append \n",
    "    rankings.append(player)"
   ]
  },
  {
   "cell_type": "code",
   "execution_count": 8,
   "metadata": {},
   "outputs": [],
   "source": [
    "#DF witih Rank as Index\n",
    "golf_rankings = pd.DataFrame(rankings).set_index('Rank')"
   ]
  },
  {
   "cell_type": "code",
   "execution_count": 9,
   "metadata": {
    "scrolled": false
   },
   "outputs": [
    {
     "data": {
      "text/html": [
       "<div>\n",
       "<style scoped>\n",
       "    .dataframe tbody tr th:only-of-type {\n",
       "        vertical-align: middle;\n",
       "    }\n",
       "\n",
       "    .dataframe tbody tr th {\n",
       "        vertical-align: top;\n",
       "    }\n",
       "\n",
       "    .dataframe thead th {\n",
       "        text-align: right;\n",
       "    }\n",
       "</style>\n",
       "<table border=\"1\" class=\"dataframe\">\n",
       "  <thead>\n",
       "    <tr style=\"text-align: right;\">\n",
       "      <th></th>\n",
       "      <th>Name</th>\n",
       "      <th>Country</th>\n",
       "    </tr>\n",
       "    <tr>\n",
       "      <th>Rank</th>\n",
       "      <th></th>\n",
       "      <th></th>\n",
       "    </tr>\n",
       "  </thead>\n",
       "  <tbody>\n",
       "    <tr>\n",
       "      <th>1</th>\n",
       "      <td>Jon Rahm</td>\n",
       "      <td>ESP</td>\n",
       "    </tr>\n",
       "    <tr>\n",
       "      <th>2</th>\n",
       "      <td>Collin Morikawa</td>\n",
       "      <td>USA</td>\n",
       "    </tr>\n",
       "    <tr>\n",
       "      <th>3</th>\n",
       "      <td>Dustin Johnson</td>\n",
       "      <td>USA</td>\n",
       "    </tr>\n",
       "    <tr>\n",
       "      <th>4</th>\n",
       "      <td>Patrick Cantlay</td>\n",
       "      <td>USA</td>\n",
       "    </tr>\n",
       "    <tr>\n",
       "      <th>5</th>\n",
       "      <td>Xander Schauffele</td>\n",
       "      <td>USA</td>\n",
       "    </tr>\n",
       "    <tr>\n",
       "      <th>...</th>\n",
       "      <td>...</td>\n",
       "      <td>...</td>\n",
       "    </tr>\n",
       "    <tr>\n",
       "      <th>296</th>\n",
       "      <td>Nate Lashley</td>\n",
       "      <td>USA</td>\n",
       "    </tr>\n",
       "    <tr>\n",
       "      <th>297</th>\n",
       "      <td>Ryan Armour</td>\n",
       "      <td>USA</td>\n",
       "    </tr>\n",
       "    <tr>\n",
       "      <th>298</th>\n",
       "      <td>Russell Knox</td>\n",
       "      <td>SCO</td>\n",
       "    </tr>\n",
       "    <tr>\n",
       "      <th>299</th>\n",
       "      <td>J.J. Spaun</td>\n",
       "      <td>USA</td>\n",
       "    </tr>\n",
       "    <tr>\n",
       "      <th>300</th>\n",
       "      <td>Edoardo Molinari</td>\n",
       "      <td>ITA</td>\n",
       "    </tr>\n",
       "  </tbody>\n",
       "</table>\n",
       "<p>300 rows × 2 columns</p>\n",
       "</div>"
      ],
      "text/plain": [
       "                   Name Country\n",
       "Rank                           \n",
       "1              Jon Rahm     ESP\n",
       "2       Collin Morikawa     USA\n",
       "3        Dustin Johnson     USA\n",
       "4       Patrick Cantlay     USA\n",
       "5     Xander Schauffele     USA\n",
       "...                 ...     ...\n",
       "296        Nate Lashley     USA\n",
       "297         Ryan Armour     USA\n",
       "298        Russell Knox     SCO\n",
       "299          J.J. Spaun     USA\n",
       "300    Edoardo Molinari     ITA\n",
       "\n",
       "[300 rows x 2 columns]"
      ]
     },
     "execution_count": 9,
     "metadata": {},
     "output_type": "execute_result"
    }
   ],
   "source": [
    "#Print DF\n",
    "golf_rankings"
   ]
  },
  {
   "cell_type": "code",
   "execution_count": 11,
   "metadata": {},
   "outputs": [
    {
     "data": {
      "text/plain": [
       "Country\n",
       "ARG      1\n",
       "AUS     10\n",
       "AUT      4\n",
       "BEL      2\n",
       "CAN      7\n",
       "CHI      3\n",
       "COL      1\n",
       "DEN      6\n",
       "ENG     25\n",
       "ESP     10\n",
       "FIN      4\n",
       "FRA      6\n",
       "GER      7\n",
       "IND      2\n",
       "IRL      3\n",
       "ITA      5\n",
       "JPN     26\n",
       "KOR     11\n",
       "MEX      2\n",
       "NED      2\n",
       "NIR      1\n",
       "NOR      1\n",
       "NZL      3\n",
       "PAR      1\n",
       "POL      1\n",
       "POR      1\n",
       "RSA     22\n",
       "SCO      6\n",
       "SVK      1\n",
       "SWE      7\n",
       "THA      4\n",
       "TPE      1\n",
       "USA    111\n",
       "VEN      1\n",
       "WAL      1\n",
       "ZIM      1\n",
       "Name: Country, dtype: int64"
      ]
     },
     "execution_count": 11,
     "metadata": {},
     "output_type": "execute_result"
    }
   ],
   "source": [
    "golf_rankings.groupby('Country').Country.count()"
   ]
  },
  {
   "cell_type": "code",
   "execution_count": 12,
   "metadata": {},
   "outputs": [],
   "source": [
    "# Export to CSV file\n",
    "golf_rankings.to_csv('./world_golf_rankings_12_8_21.csv')"
   ]
  }
 ],
 "metadata": {
  "kernelspec": {
   "display_name": "Python 3",
   "language": "python",
   "name": "python3"
  },
  "language_info": {
   "codemirror_mode": {
    "name": "ipython",
    "version": 3
   },
   "file_extension": ".py",
   "mimetype": "text/x-python",
   "name": "python",
   "nbconvert_exporter": "python",
   "pygments_lexer": "ipython3",
   "version": "3.8.5"
  }
 },
 "nbformat": 4,
 "nbformat_minor": 4
}
